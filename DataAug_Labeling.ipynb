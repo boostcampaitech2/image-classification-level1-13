{
 "cells": [
  {
   "cell_type": "code",
   "execution_count": 4,
   "id": "d4557a75-830d-4ba7-803e-caa8a45dc8e8",
   "metadata": {},
   "outputs": [],
   "source": [
    "import numpy as np\n",
    "import pandas as pd\n",
    "import os\n",
    "import glob\n",
    "from string import digits\n",
    "\n",
    "import cv2\n",
    "import albumentations as A\n",
    "import matplotlib as mlp\n",
    "import matplotlib.pyplot as plt"
   ]
  },
  {
   "cell_type": "code",
   "execution_count": 5,
   "id": "21868c9f-acf3-4b6c-b6dd-55428b3065d5",
   "metadata": {},
   "outputs": [],
   "source": [
    "data = pd.read_csv(\"/opt/ml/input/data/train/train.csv\") # 제공된 파일"
   ]
  },
  {
   "cell_type": "code",
   "execution_count": 6,
   "id": "c74602fb-9b70-4cab-a6cd-915774ca9215",
   "metadata": {},
   "outputs": [],
   "source": [
    "# 분류\n",
    "# gender - male[0], female[1]\n",
    "# age - <30[0], 30<= and <60[1], 60<=[2]\n",
    "# mask - mask[0], incorrect[1], nomask[2]"
   ]
  },
  {
   "cell_type": "code",
   "execution_count": 7,
   "id": "2727d003-fe3b-4ac0-b399-b93e49ea1d40",
   "metadata": {},
   "outputs": [],
   "source": [
    "train_folder_paths = data['path']"
   ]
  },
  {
   "cell_type": "code",
   "execution_count": 8,
   "id": "0a01666b-c6af-464e-b68d-3b5458cf6559",
   "metadata": {},
   "outputs": [],
   "source": [
    "total = list()\n",
    "\n",
    "for path in train_folder_paths.tolist():\n",
    "    split_text = path.split('_')\n",
    "    id = split_text[0]\n",
    "    gender = split_text[1]\n",
    "    age = int(split_text[3])\n",
    "    for i in glob.glob(\"/opt/ml/input/data/train/images/{}/*\".format(path)):\n",
    "        # id, gender, age, mask, path\n",
    "        table = str.maketrans('', '', digits)\n",
    "        mask = os.path.basename(i).split('.')[0].translate(table) # 숫자제거 #글자수로 자를시 jpg와 jpeg가 둘다 있어서 문제\n",
    "        total.append([id, gender, age, mask, i])"
   ]
  },
  {
   "cell_type": "code",
   "execution_count": 9,
   "id": "fe327ed9-e323-40c6-ae3b-3b954a9e7b9e",
   "metadata": {},
   "outputs": [],
   "source": [
    "header = ['id', 'gender', 'age', 'mask', 'path']"
   ]
  },
  {
   "cell_type": "code",
   "execution_count": 10,
   "id": "1f9bc688-c61b-4949-83e2-dc9338b488ca",
   "metadata": {},
   "outputs": [],
   "source": [
    "df = pd.DataFrame(data=total, columns=header)"
   ]
  },
  {
   "cell_type": "code",
   "execution_count": 11,
   "id": "8befa495-e52a-40a6-87c1-385b77f7331c",
   "metadata": {},
   "outputs": [],
   "source": [
    "# gender - male[0], female[1]\n",
    "df['gender_class'] = df['gender'].map({'male': 0, 'female': 1})"
   ]
  },
  {
   "cell_type": "code",
   "execution_count": 12,
   "id": "6cf5c8f5-4054-46d2-879e-70b1476e37c8",
   "metadata": {},
   "outputs": [],
   "source": [
    "# age - <30[0], 30<= and <60[1], 60<=[2]\n",
    "df['age_class'] = df['age']\n",
    "df.loc[df.age < 30, \"age_class\"] = 0\n",
    "df.loc[df.age >= 30, \"age_class\"] = 1\n",
    "df.loc[df.age >= 60, \"age_class\"] = 2"
   ]
  },
  {
   "cell_type": "code",
   "execution_count": 13,
   "id": "25e42d6a-224f-4fe2-b801-d0fa35110f52",
   "metadata": {},
   "outputs": [],
   "source": [
    "# mask - mask[0], incorrect[1], nomask[2]\n",
    "df['mask_class'] = df['mask'].map({'mask' : 0, 'incorrect_mask' : 1, 'normal' : 2})"
   ]
  },
  {
   "cell_type": "code",
   "execution_count": 14,
   "id": "eda07aab-8f91-48bf-80b2-e8d9cddbd69e",
   "metadata": {},
   "outputs": [],
   "source": [
    "df['total_class'] = [str(x) + str(y) + str(z) for x, y, z in zip(df['mask_class'], df['gender_class'], df['age_class'])]"
   ]
  },
  {
   "cell_type": "code",
   "execution_count": 15,
   "id": "4ce590ec-cb8e-4d00-810d-e7ebfae37f4f",
   "metadata": {},
   "outputs": [
    {
     "name": "stdout",
     "output_type": "stream",
     "text": [
      "[0, 1, 2, 3, 4, 5, 6, 7, 8, 9, 10, 11, 12, 13, 14, 15, 16, 17]\n",
      "{'000': 0, '001': 1, '002': 2, '010': 3, '011': 4, '012': 5, '100': 6, '101': 7, '102': 8, '110': 9, '111': 10, '112': 11, '200': 12, '201': 13, '202': 14, '210': 15, '211': 16, '212': 17}\n"
     ]
    }
   ],
   "source": [
    "mask_ = [0, 1, 2]\n",
    "age_ = [0, 1, 2]\n",
    "gender_ = [0, 1]\n",
    "key = [str(i)+str(j)+str(k) for i in mask_ for j in gender_ for k in age_]\n",
    "value = list(range(18))\n",
    "print(value)\n",
    "total_class = {key[i]:value[i] for i in value}\n",
    "print(total_class)"
   ]
  },
  {
   "cell_type": "code",
   "execution_count": 16,
   "id": "cff875cf-d9e4-4f98-8bd5-edeeb480e400",
   "metadata": {},
   "outputs": [],
   "source": [
    "df['total_class_18'] = df['total_class'].map(total_class)"
   ]
  },
  {
   "cell_type": "code",
   "execution_count": 17,
   "id": "42187c2d-b83f-402f-ae62-3d4f8754030b",
   "metadata": {},
   "outputs": [],
   "source": [
    "df.drop(columns=['total_class'], inplace=True)"
   ]
  },
  {
   "cell_type": "code",
   "execution_count": 19,
   "id": "3b89bbce-2d23-481e-bef3-d1dbd1820765",
   "metadata": {},
   "outputs": [
    {
     "name": "stdout",
     "output_type": "stream",
     "text": [
      "/opt/ml/input/data/train\n"
     ]
    }
   ],
   "source": [
    "%cd /opt/ml/input/data/train"
   ]
  },
  {
   "cell_type": "code",
   "execution_count": 20,
   "id": "9c523afe-a38b-42fb-a0ea-3178fd1c6b11",
   "metadata": {},
   "outputs": [],
   "source": [
    "check = df.groupby('total_class_18').count()['path'] # 카운트 갯수 저장"
   ]
  },
  {
   "cell_type": "code",
   "execution_count": 21,
   "id": "1590f152-f0c6-4f47-84cd-873746d57c10",
   "metadata": {},
   "outputs": [],
   "source": [
    "# 이미지 변환 체크\n",
    "def visualize(image):\n",
    "    plt.figure(figsize=(10, 10))\n",
    "    plt.axis('off')\n",
    "    plt.imshow(image)"
   ]
  },
  {
   "cell_type": "code",
   "execution_count": null,
   "id": "8a407d2e-60fe-4e81-aabb-14726e10db96",
   "metadata": {},
   "outputs": [],
   "source": [
    "# Aug\n",
    "max_value = max(check)\n",
    "save_location = \"/opt/ml/input/data/train/aug_images\"\n",
    "aug_pandas_list = list()\n",
    "\n",
    "if not os.path.exists(save_location):\n",
    "    os.mkdir(save_location)\n",
    "\n",
    "for i in range(len(check)): # 18개 클래스\n",
    "    num = max_value - check[i]\n",
    "    mok = num // check[i]\n",
    "    namur = num % check[i]\n",
    "    need_aug_path = df.loc[df['total_class_18'] == i]['path'].tolist()\n",
    "    need_aug_paths = need_aug_path * mok + need_aug_path[:namur] # 갯수가 같아질때까지 무지성 반복\n",
    "    if mok == 0 and namur == 0:\n",
    "        continue\n",
    "#     print(len(need_aug_paths), max_value)\n",
    "    for idx, org_path in enumerate(need_aug_paths):\n",
    "        img = cv2.imread(org_path)\n",
    "        img = cv2.cvtColor(img, cv2.COLOR_BGR2RGB)\n",
    "        transform = A.Compose(\n",
    "            [A.CoarseDropout(always_apply=False, p=1.0, max_holes=5, max_height=40, max_width=40, min_holes=3, min_height=20, min_width=20),\n",
    "             A.RGBShift(always_apply=False, p=1.0, r_shift_limit=(-30, 30), g_shift_limit=(-30, 30), b_shift_limit=(-30, 30)),\n",
    "             A.GaussNoise(always_apply=False, p=1.0, var_limit=(10.0, 50.0)),\n",
    "             A.GridDistortion(always_apply=False, p=1.0, num_steps=2, distort_limit=(-0.30000001192092896, 0.30000001192092896), interpolation=0, border_mode=0, value=(0, 0, 0), mask_value=None),\n",
    "             A.HorizontalFlip(p=0.5),\n",
    "             A.Rotate(always_apply=False, p=1.0, limit=(-5, 5), interpolation=0, border_mode=0, value=(0, 0, 0), mask_value=None)\n",
    "             # Grid\n",
    "            ])\n",
    "\n",
    "        augmented_image = transform(image=img)['image']\n",
    "#         visualize(augmented_image)\n",
    "        img = cv2.cvtColor(augmented_image, cv2.COLOR_RGB2BGR)\n",
    "        \n",
    "        path_split = org_path.split('/')\n",
    "        id_gender_age = path_split[-2]\n",
    "        id_gender_age_split = id_gender_age.split('_')\n",
    "        id_ = id_gender_age_split[0]\n",
    "        gender_ = id_gender_age_split[1]\n",
    "        age_ = int(id_gender_age_split[3])\n",
    "        mask_ext = path_split[-1].split('.')\n",
    "        mask_ = mask_ext[0]\n",
    "        ext_ = mask_ext[1]\n",
    "        \n",
    "        dir_path = \"{}/{}\".format(save_location, id_gender_age)\n",
    "        if not os.path.exists(dir_path):\n",
    "            os.mkdir(dir_path)\n",
    "        aug_path = \"{}/{}_{}.{}\".format(dir_path, mask_, idx, ext_)\n",
    "        cv2.imwrite(aug_path, img)\n",
    "        \n",
    "        gender_cls = 0\n",
    "        age_cls = 0\n",
    "        mask_cls = 0\n",
    "        if gender_ == 'female': gender_cls = 1\n",
    "        if age_ >= 30: age_cls = 1\n",
    "        if age_ >= 60: age_cls = 2\n",
    "        if mask_ == \"incorrect_mask\": mask_cls = 1\n",
    "        if mask_ == \"normal\": mask_cls = 2\n",
    "        \n",
    "        aug_pandas_list.append([id_, gender_, age_, mask_, aug_path, gender_cls, age_cls, mask_cls, i])"
   ]
  },
  {
   "cell_type": "code",
   "execution_count": null,
   "id": "70b8d027-fb92-4a64-8a57-21993f53653d",
   "metadata": {},
   "outputs": [],
   "source": [
    "aug_pandas = pd.DataFrame(data=aug_pandas_list, columns=df.columns)"
   ]
  },
  {
   "cell_type": "code",
   "execution_count": null,
   "id": "a6d41730-4aec-4094-9d6f-adbf0d810707",
   "metadata": {},
   "outputs": [],
   "source": [
    "aug_pandas.loc[aug_pandas['mask_class'] == 0, 'mask'] = 'mask'"
   ]
  },
  {
   "cell_type": "code",
   "execution_count": null,
   "id": "d4cb7762-c94b-409f-a1f2-0542244bf8c3",
   "metadata": {},
   "outputs": [],
   "source": [
    "result = pd.concat([df,aug_pandas], ignore_index=True)"
   ]
  },
  {
   "cell_type": "code",
   "execution_count": null,
   "id": "b03a339c-7feb-4b84-8605-2bd740d0e0be",
   "metadata": {},
   "outputs": [],
   "source": [
    "result.to_csv(\"./total_class_aug.csv\", mode='w')"
   ]
  }
 ],
 "metadata": {
  "kernelspec": {
   "display_name": "Python 3 (ipykernel)",
   "language": "python",
   "name": "python3"
  },
  "language_info": {
   "codemirror_mode": {
    "name": "ipython",
    "version": 3
   },
   "file_extension": ".py",
   "mimetype": "text/x-python",
   "name": "python",
   "nbconvert_exporter": "python",
   "pygments_lexer": "ipython3",
   "version": "3.8.5"
  }
 },
 "nbformat": 4,
 "nbformat_minor": 5
}
