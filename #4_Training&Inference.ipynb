{
 "cells": [
  {
   "cell_type": "code",
   "execution_count": 25,
   "id": "7d5802e9-2a65-4e6b-92e3-bfdff996ee81",
   "metadata": {},
   "outputs": [],
   "source": [
    "import torch\n",
    "\n",
    "import torch.nn as nn\n",
    "import torch.nn.functional as F\n",
    "\n",
    "from torch.utils.data import Dataset\n",
    "from torch.utils.data import DataLoader\n",
    "\n",
    "import torch.optim as optim\n",
    "\n",
    "import torchvision\n",
    "\n",
    "from GPUtil import showUtilization as gpu_usage"
   ]
  },
  {
   "cell_type": "code",
   "execution_count": 21,
   "id": "589273e5-89a6-4906-86d6-c899e9b2662d",
   "metadata": {},
   "outputs": [],
   "source": [
    "class MyModel(nn.Module):\n",
    "    def __init__(self):\n",
    "        super(MyModel, self).__init__()\n",
    "        pass\n",
    "    \n",
    "    def forward(self, x):\n",
    "        return None\n",
    "\n",
    "model = MyModel()"
   ]
  },
  {
   "cell_type": "code",
   "execution_count": 22,
   "id": "dab026f6-a7d2-4d9a-aeaf-e0e627f3adb6",
   "metadata": {},
   "outputs": [],
   "source": [
    "class MyDataset(Dataset):\n",
    "    def __init__(self):\n",
    "        super(MyDataset, self).__init__()\n",
    "        pass\n",
    "    \n",
    "    def __getitem__(self, index):\n",
    "        return None\n",
    "    \n",
    "    def __len__(self):\n",
    "        return 0\n",
    "    \n",
    "dataset = MyDataset()\n",
    "dataloader = DataLoader(dataset)"
   ]
  },
  {
   "cell_type": "code",
   "execution_count": 24,
   "id": "31a83a4c-f46e-48ca-8b19-4a84fb2bea0b",
   "metadata": {},
   "outputs": [],
   "source": [
    "device = torch.cuda.device(\"cuda\" if torch.cuda.is_available() else \"cpu\")\n",
    "\n",
    "optimizer = optim.Adam(model.parameters())\n",
    "lr_scheduler = optim.lr_scheduler.StepLR(optimizer, step_size=4)\n",
    "criterion = F.cross_entropy\n",
    "\n",
    "min_avg_loss = -1\n",
    "\n",
    "epochs = range(1, 1000+1)\n",
    "for epoch in epochs:\n",
    "    \n",
    "    model.train()\n",
    "    for i, (inputs, targets) in enumerate(dataloader, start=1):\n",
    "        inputs = inputs.to(device)\n",
    "        targets = targets.to(device)\n",
    "        \n",
    "        # 1. zero_grad\n",
    "        optimizer.zero_grad()\n",
    "        \n",
    "        # 2. forward\n",
    "        outputs = model(inputs)\n",
    "        \n",
    "        # 3. loss cal and backward\n",
    "        loss = criterion(inputs, outputs)\n",
    "        loss.backward()\n",
    "        \n",
    "        # 4. optimizer.step()\n",
    "        optimizer.step()\n",
    "    \n",
    "    torch.cuda.empty_cache()\n",
    "    gpu_usage()\n",
    "        \n",
    "    with torch.no_grad():\n",
    "        avg_loss = 0.0\n",
    "        \n",
    "        model.eval()\n",
    "        for i, (inputs, targets) in enumerate(valid_dataloader, start=1):\n",
    "            inputs = inputs.to(device)\n",
    "            targets = targets.to(device)\n",
    "            \n",
    "            outputs = model(inputs)\n",
    "            \n",
    "            loss = criterion(inputs, outputs)\n",
    "            avg_loss += loss\n",
    "            \n",
    "        avg_loss /= i\n",
    "        if avg_loss < min_avg_loss:\n",
    "            torch.save(model, \"file_dir\")\n",
    "        \n",
    "    torch.cuda.empty_cache()\n",
    "    gpu_usage()"
   ]
  },
  {
   "cell_type": "code",
   "execution_count": 17,
   "id": "8b62dff4-ec7f-432c-bf85-03920ea4f13b",
   "metadata": {},
   "outputs": [],
   "source": []
  }
 ],
 "metadata": {
  "kernelspec": {
   "display_name": "Python 3 (ipykernel)",
   "language": "python",
   "name": "python3"
  },
  "language_info": {
   "codemirror_mode": {
    "name": "ipython",
    "version": 3
   },
   "file_extension": ".py",
   "mimetype": "text/x-python",
   "name": "python",
   "nbconvert_exporter": "python",
   "pygments_lexer": "ipython3",
   "version": "3.8.5"
  }
 },
 "nbformat": 4,
 "nbformat_minor": 5
}
